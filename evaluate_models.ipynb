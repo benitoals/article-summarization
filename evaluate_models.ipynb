{
 "cells": [
  {
   "cell_type": "markdown",
   "metadata": {},
   "source": [
    " Imports and Setup"
   ]
  },
  {
   "cell_type": "code",
   "execution_count": 13,
   "metadata": {},
   "outputs": [],
   "source": [
    "import torch\n",
    "from transformers import AutoTokenizer, AutoModelForSeq2SeqLM\n",
    "from peft import PeftModel\n",
    "import evaluate\n",
    "\n",
    "device = torch.device(\"cuda\" if torch.cuda.is_available() else \"cpu\")\n",
    "\n",
    "model_name = \"google/mt5-small\"\n",
    "tokenizer = AutoTokenizer.from_pretrained(model_name)\n",
    "rouge = evaluate.load(\"rouge\")"
   ]
  },
  {
   "cell_type": "markdown",
   "metadata": {},
   "source": [
    "Helper Functions"
   ]
  },
  {
   "cell_type": "code",
   "execution_count": 14,
   "metadata": {},
   "outputs": [],
   "source": [
    "def generate_summary(model, tokenizer, text, device, max_length=128):\n",
    "    input_ids = tokenizer.encode(\n",
    "        text, return_tensors=\"pt\", truncation=True, max_length=512\n",
    "    ).to(device)\n",
    "    outputs = model.generate(\n",
    "        input_ids=input_ids,\n",
    "        max_length=max_length,\n",
    "        num_beams=4,\n",
    "        early_stopping=True,\n",
    "        no_repeat_ngram_size=3\n",
    "    )\n",
    "    return tokenizer.decode(outputs[0], skip_special_tokens=True, clean_up_tokenization_spaces=True)\n",
    "\n",
    "def evaluate_summary(pred, ref):\n",
    "    scores = rouge.compute(predictions=[pred], references=[ref])\n",
    "    return {k: round(v * 100, 2) for k, v in scores.items()}\n",
    "\n",
    "def load_model(base_model_name, repo_id, device):\n",
    "    base_model = AutoModelForSeq2SeqLM.from_pretrained(base_model_name).to(device)\n",
    "    if repo_id:\n",
    "        try:\n",
    "            model = PeftModel.from_pretrained(base_model, repo_id).to(device)\n",
    "            print(f\"Loaded LoRA adapter from {repo_id}\")\n",
    "            return model\n",
    "        except Exception as e:\n",
    "            print(f\"Error loading LoRA adapter from {repo_id}: {e}. Using base model instead.\")\n",
    "            return base_model\n",
    "    else:\n",
    "        print(\"Using baseline pretrained model\")\n",
    "        return base_model"
   ]
  },
  {
   "cell_type": "markdown",
   "metadata": {},
   "source": [
    "Load Models"
   ]
  },
  {
   "cell_type": "code",
   "execution_count": 15,
   "metadata": {},
   "outputs": [
    {
     "name": "stdout",
     "output_type": "stream",
     "text": [
      "\n",
      "Loading Baseline (Pretrained)...\n",
      "Using baseline pretrained model\n",
      "\n",
      "Loading LoRA Local...\n",
      "Loaded LoRA adapter from benitoals/my-lora\n",
      "\n",
      "Loading HF Science Dataset...\n",
      "Loaded LoRA adapter from benitoals/my-lora-hf\n",
      "\n",
      "Loading HF + Local Fine-tuned...\n",
      "Loaded LoRA adapter from benitoals/my-lora-local-combined\n"
     ]
    }
   ],
   "source": [
    "model_repos = {\n",
    "    \"Baseline (Pretrained)\": None,\n",
    "    \"LoRA Local\": \"benitoals/my-lora\",\n",
    "    \"HF Science Dataset\": \"benitoals/my-lora-hf\",\n",
    "    \"HF + Local Fine-tuned\": \"benitoals/my-lora-local-combined\"\n",
    "}\n",
    "\n",
    "models = {}\n",
    "\n",
    "for model_label, repo_id in model_repos.items():\n",
    "    print(f\"\\nLoading {model_label}...\")\n",
    "    models[model_label] = load_model(model_name, repo_id, device).eval()"
   ]
  },
  {
   "cell_type": "markdown",
   "metadata": {},
   "source": [
    "Interactive Evaluation"
   ]
  },
  {
   "cell_type": "code",
   "execution_count": 16,
   "metadata": {},
   "outputs": [
    {
     "name": "stdout",
     "output_type": "stream",
     "text": [
      "\n",
      "=== Baseline (Pretrained) ===\n",
      "\n",
      "Generated Summary:\n",
      " <extra_id_0> could interfere.\n",
      "\n",
      "Reference Abstract:\n",
      " Formal Veriﬁcation of Ladder Logic programs using NuSMV Sam Kottler\u0003, Mehdy Khayamy,ySyed Rafay Hasan,zand Omar Elkeelanyx \u0003Colorado College, Department of Mathematics and Computer Science, sam.kottler@coloradocollege.edu y z xTennessee Technological University, Electrical and Computer Engineering Department ymkhayamy42@students.tntech.edu,zshasan@tntech.edu,xoelkeelany@tntech.edu Abstract —Programmable logic controllers (PLCs) are heavy- duty computers used to control industrial systems. For many years these systems were physically separated from any other network making attacks extremely difﬁcult. However, these in- creasingly connected systems have not improved much in terms of security, leaving them vulnerable to attacks. This paper attempts to show that ladder logic programs for PLCs can be modeled in NuSMV and veriﬁed using computational tree logic (CTL) speciﬁcations. This paper also shows how simple changes to the ladder logic program can cause catastrophic damage to the PLC system. This intruded code can be difﬁcult to detect by looking at the ladder logic program because the change is so small. However, the intruded code can be modeled in NuSMV and identiﬁed by properly written CTL speciﬁcations.\n",
      "\n",
      "ROUGE Scores: {'rouge1': 0.0, 'rouge2': 0.0, 'rougeL': 0.0, 'rougeLsum': 0.0}\n",
      "----------------------------------------------------------------------\n",
      "\n",
      "=== LoRA Local ===\n",
      "\n",
      "Generated Summary:\n",
      " <extra_id_0>.\n",
      "\n",
      "Reference Abstract:\n",
      " Formal Veriﬁcation of Ladder Logic programs using NuSMV Sam Kottler\u0003, Mehdy Khayamy,ySyed Rafay Hasan,zand Omar Elkeelanyx \u0003Colorado College, Department of Mathematics and Computer Science, sam.kottler@coloradocollege.edu y z xTennessee Technological University, Electrical and Computer Engineering Department ymkhayamy42@students.tntech.edu,zshasan@tntech.edu,xoelkeelany@tntech.edu Abstract —Programmable logic controllers (PLCs) are heavy- duty computers used to control industrial systems. For many years these systems were physically separated from any other network making attacks extremely difﬁcult. However, these in- creasingly connected systems have not improved much in terms of security, leaving them vulnerable to attacks. This paper attempts to show that ladder logic programs for PLCs can be modeled in NuSMV and veriﬁed using computational tree logic (CTL) speciﬁcations. This paper also shows how simple changes to the ladder logic program can cause catastrophic damage to the PLC system. This intruded code can be difﬁcult to detect by looking at the ladder logic program because the change is so small. However, the intruded code can be modeled in NuSMV and identiﬁed by properly written CTL speciﬁcations.\n",
      "\n",
      "ROUGE Scores: {'rouge1': 0.0, 'rouge2': 0.0, 'rougeL': 0.0, 'rougeLsum': 0.0}\n",
      "----------------------------------------------------------------------\n",
      "\n",
      "=== HF Science Dataset ===\n",
      "\n",
      "Generated Summary:\n",
      " <extra_id_0> which is very efficient and efficient. However, it would increase the capacity of the PLC which could cause a certain system which can cause problems in PLC programs. These would have been very important in a system where the remote which the a. which it could have a problem. Although it is limited because it is not necessary, it is the ability to operate in these types of systems which are being used in the various processes. The \n",
      "\n",
      "Reference Abstract:\n",
      " Formal Veriﬁcation of Ladder Logic programs using NuSMV Sam Kottler\u0003, Mehdy Khayamy,ySyed Rafay Hasan,zand Omar Elkeelanyx \u0003Colorado College, Department of Mathematics and Computer Science, sam.kottler@coloradocollege.edu y z xTennessee Technological University, Electrical and Computer Engineering Department ymkhayamy42@students.tntech.edu,zshasan@tntech.edu,xoelkeelany@tntech.edu Abstract —Programmable logic controllers (PLCs) are heavy- duty computers used to control industrial systems. For many years these systems were physically separated from any other network making attacks extremely difﬁcult. However, these in- creasingly connected systems have not improved much in terms of security, leaving them vulnerable to attacks. This paper attempts to show that ladder logic programs for PLCs can be modeled in NuSMV and veriﬁed using computational tree logic (CTL) speciﬁcations. This paper also shows how simple changes to the ladder logic program can cause catastrophic damage to the PLC system. This intruded code can be difﬁcult to detect by looking at the ladder logic program because the change is so small. However, the intruded code can be modeled in NuSMV and identiﬁed by properly written CTL speciﬁcations.\n",
      "\n",
      "ROUGE Scores: {'rouge1': 20.9, 'rouge2': 1.5, 'rougeL': 9.7, 'rougeLsum': 9.7}\n",
      "----------------------------------------------------------------------\n",
      "\n",
      "=== HF + Local Fine-tuned ===\n",
      "\n",
      "Generated Summary:\n",
      " <extra_id_0> could interfere.\n",
      "\n",
      "Reference Abstract:\n",
      " Formal Veriﬁcation of Ladder Logic programs using NuSMV Sam Kottler\u0003, Mehdy Khayamy,ySyed Rafay Hasan,zand Omar Elkeelanyx \u0003Colorado College, Department of Mathematics and Computer Science, sam.kottler@coloradocollege.edu y z xTennessee Technological University, Electrical and Computer Engineering Department ymkhayamy42@students.tntech.edu,zshasan@tntech.edu,xoelkeelany@tntech.edu Abstract —Programmable logic controllers (PLCs) are heavy- duty computers used to control industrial systems. For many years these systems were physically separated from any other network making attacks extremely difﬁcult. However, these in- creasingly connected systems have not improved much in terms of security, leaving them vulnerable to attacks. This paper attempts to show that ladder logic programs for PLCs can be modeled in NuSMV and veriﬁed using computational tree logic (CTL) speciﬁcations. This paper also shows how simple changes to the ladder logic program can cause catastrophic damage to the PLC system. This intruded code can be difﬁcult to detect by looking at the ladder logic program because the change is so small. However, the intruded code can be modeled in NuSMV and identiﬁed by properly written CTL speciﬁcations.\n",
      "\n",
      "ROUGE Scores: {'rouge1': 0.0, 'rouge2': 0.0, 'rougeL': 0.0, 'rougeLsum': 0.0}\n",
      "----------------------------------------------------------------------\n"
     ]
    }
   ],
   "source": [
    "input_text = input(\"Enter the article text to summarize:\\n\").strip()\n",
    "reference_summary = input(\"Enter the reference abstract:\\n\").strip()\n",
    "\n",
    "for model_label, model in models.items():\n",
    "    print(f\"\\n=== {model_label} ===\")\n",
    "    summary = generate_summary(model, tokenizer, input_text, device)\n",
    "    scores = evaluate_summary(summary, reference_summary)\n",
    "\n",
    "    print(\"\\nGenerated Summary:\\n\", summary)\n",
    "    print(\"\\nReference Abstract:\\n\", reference_summary)\n",
    "    print(\"\\nROUGE Scores:\", scores)\n",
    "    print(\"-\" * 70)"
   ]
  }
 ],
 "metadata": {
  "kernelspec": {
   "display_name": "metal",
   "language": "python",
   "name": "python3"
  },
  "language_info": {
   "codemirror_mode": {
    "name": "ipython",
    "version": 3
   },
   "file_extension": ".py",
   "mimetype": "text/x-python",
   "name": "python",
   "nbconvert_exporter": "python",
   "pygments_lexer": "ipython3",
   "version": "3.12.9"
  }
 },
 "nbformat": 4,
 "nbformat_minor": 2
}
